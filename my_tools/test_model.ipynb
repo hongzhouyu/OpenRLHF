{
 "cells": [
  {
   "cell_type": "markdown",
   "id": "fa561566",
   "metadata": {},
   "source": [
    "比较 Qwen 和 QwQ 两种 chat_template 在 DPO 训练时是否有差异\n",
    " - 只在准备数据上有差异: qwq 的数据要带 /think 标签\n",
    " - 应该是一般不调整 system 字段\n",
    " - 有一个疑问: 对 /think 的数据进行 DPO 是否会导致模型不愿意输出 /think 标签? -> 应该不会，后面训练的时候可以留意一下"
   ]
  },
  {
   "cell_type": "code",
   "execution_count": 42,
   "id": "0c5717c5",
   "metadata": {},
   "outputs": [],
   "source": [
    "# Load model directly\n",
    "from transformers import AutoTokenizer, AutoModelForCausalLM\n",
    "\n",
    "# tokenizer = AutoTokenizer.from_pretrained(\"/root/model/qwen\")\n",
    "# tokenizer = AutoTokenizer.from_pretrained(\"/root/model/qwen-distill\")\n",
    "tokenizer = AutoTokenizer.from_pretrained(\"/root/model/qwq\")\n",
    "\n",
    "\n",
    "# model = AutoModelForCausalLM.from_pretrained(\"/root/model\")"
   ]
  },
  {
   "cell_type": "code",
   "execution_count": 23,
   "id": "4cfad318",
   "metadata": {},
   "outputs": [
    {
     "data": {
      "text/plain": [
       "Dataset({\n",
       "    features: ['rejected', 'rejected_score', 'chosen_score', 'chosen'],\n",
       "    num_rows: 10000\n",
       "})"
      ]
     },
     "execution_count": 23,
     "metadata": {},
     "output_type": "execute_result"
    }
   ],
   "source": [
    "from datasets import load_from_disk\n",
    "dataset = load_from_disk(\"/root/dataset\")\n",
    "dataset"
   ]
  },
  {
   "cell_type": "code",
   "execution_count": 36,
   "id": "dad6346d",
   "metadata": {},
   "outputs": [
    {
     "data": {
      "text/plain": [
       "{'rejected': [{'content': 'Part 1. Definition\\nYou are given a math word problem and you are supposed to apply division mathematical operator on the numbers embedded in the text to answer the following question and then only report the final numerical answer.\\nPart 2. Example\\nContext: Alex wants to split a collection of eggs into 4 groups. Alex has 8 eggs and 6 marbles. \\n\\n Question: How many eggs will each group have?\\nAnswer: 2\\nExplanation: Total eggs each group will get is 8/4 = 2\\nPart 3. Exercise\\nContext: 6 packs of dvds can be bought with 120 dollars. \\n\\n Question: How much does each pack cost?\\nAnswer:',\n",
       "   'role': 'user'},\n",
       "  {'content': 'Your task is to define the mathematical operation to be performed on the given numbers to solve the problem and provide a formula to calculate the answer. In this case, the task involves dividing the total amount of eggs by the number of groups, and your answer will be the number of eggs each group will have. I will provide you with the formula to solve the exercise, and if you have any questions, feel free to ask.',\n",
       "   'role': 'assistant'}],\n",
       " 'rejected_score': 1.5,\n",
       " 'chosen_score': 3.75,\n",
       " 'chosen': [{'content': 'Part 1. Definition\\nYou are given a math word problem and you are supposed to apply division mathematical operator on the numbers embedded in the text to answer the following question and then only report the final numerical answer.\\nPart 2. Example\\nContext: Alex wants to split a collection of eggs into 4 groups. Alex has 8 eggs and 6 marbles. \\n\\n Question: How many eggs will each group have?\\nAnswer: 2\\nExplanation: Total eggs each group will get is 8/4 = 2\\nPart 3. Exercise\\nContext: 6 packs of dvds can be bought with 120 dollars. \\n\\n Question: How much does each pack cost?\\nAnswer:',\n",
       "   'role': 'user'},\n",
       "  {'content': '6 packs x $120/pack = $720\\nExplanation: To find how much each pack costs, we need to divide the total cost by the number of packs. 120 dollars can buy 6 packs, so each pack costs $120/6 = $20.',\n",
       "   'role': 'assistant'}]}"
      ]
     },
     "execution_count": 36,
     "metadata": {},
     "output_type": "execute_result"
    }
   ],
   "source": [
    "data = dataset[0]\n",
    "data"
   ]
  },
  {
   "cell_type": "code",
   "execution_count": 43,
   "id": "19a17d2e",
   "metadata": {},
   "outputs": [],
   "source": [
    "prompt = \"\"\n",
    "chosen = tokenizer.apply_chat_template(data[\"chosen\"], tokenize=False)\n",
    "rejected = tokenizer.apply_chat_template(data[\"rejected\"], tokenize=False)\n",
    "# if is_dpo:\n",
    "#     prompt = tokenizer.apply_chat_template(data[chosen_key][:-1], tokenize=False, add_generation_prompt=True)\n",
    "#     chosen = chosen[len(prompt) :]\n",
    "#     rejected = rejected[len(prompt) :]"
   ]
  },
  {
   "cell_type": "code",
   "execution_count": null,
   "id": "9883b806",
   "metadata": {},
   "outputs": [
    {
     "data": {
      "text/plain": [
       "('<｜begin▁of▁sentence｜><｜User｜>Part 1. Definition\\nYou are given a math word problem and you are supposed to apply division mathematical operator on the numbers embedded in the text to answer the following question and then only report the final numerical answer.\\nPart 2. Example\\nContext: Alex wants to split a collection of eggs into 4 groups. Alex has 8 eggs and 6 marbles. \\n\\n Question: How many eggs will each group have?\\nAnswer: 2\\nExplanation: Total eggs each group will get is 8/4 = 2\\nPart 3. Exercise\\nContext: 6 packs of dvds can be bought with 120 dollars. \\n\\n Question: How much does each pack cost?\\nAnswer:<｜Assistant｜>6 packs x $120/pack = $720\\nExplanation: To find how much each pack costs, we need to divide the total cost by the number of packs. 120 dollars can buy 6 packs, so each pack costs $120/6 = $20.<｜end▁of▁sentence｜>',\n",
       " '<｜begin▁of▁sentence｜><｜User｜>Part 1. Definition\\nYou are given a math word problem and you are supposed to apply division mathematical operator on the numbers embedded in the text to answer the following question and then only report the final numerical answer.\\nPart 2. Example\\nContext: Alex wants to split a collection of eggs into 4 groups. Alex has 8 eggs and 6 marbles. \\n\\n Question: How many eggs will each group have?\\nAnswer: 2\\nExplanation: Total eggs each group will get is 8/4 = 2\\nPart 3. Exercise\\nContext: 6 packs of dvds can be bought with 120 dollars. \\n\\n Question: How much does each pack cost?\\nAnswer:<｜Assistant｜>Your task is to define the mathematical operation to be performed on the given numbers to solve the problem and provide a formula to calculate the answer. In this case, the task involves dividing the total amount of eggs by the number of groups, and your answer will be the number of eggs each group will have. I will provide you with the formula to solve the exercise, and if you have any questions, feel free to ask.<｜end▁of▁sentence｜>')"
      ]
     },
     "execution_count": 38,
     "metadata": {},
     "output_type": "execute_result"
    }
   ],
   "source": [
    "# R1-distill, 官方不建议加 system 字段\n",
    "chosen, rejected"
   ]
  },
  {
   "cell_type": "code",
   "execution_count": 30,
   "id": "07759657",
   "metadata": {},
   "outputs": [
    {
     "data": {
      "text/plain": [
       "('<|im_start|>system\\nPlease reason step by step, and put your final answer within \\\\boxed{}.<|im_end|>\\n<|im_start|>user\\nPart 1. Definition\\nYou are given a math word problem and you are supposed to apply division mathematical operator on the numbers embedded in the text to answer the following question and then only report the final numerical answer.\\nPart 2. Example\\nContext: Alex wants to split a collection of eggs into 4 groups. Alex has 8 eggs and 6 marbles. \\n\\n Question: How many eggs will each group have?\\nAnswer: 2\\nExplanation: Total eggs each group will get is 8/4 = 2\\nPart 3. Exercise\\nContext: 6 packs of dvds can be bought with 120 dollars. \\n\\n Question: How much does each pack cost?\\nAnswer:<|im_end|>\\n<|im_start|>assistant\\n6 packs x $120/pack = $720\\nExplanation: To find how much each pack costs, we need to divide the total cost by the number of packs. 120 dollars can buy 6 packs, so each pack costs $120/6 = $20.<|im_end|>\\n',\n",
       " '<|im_start|>system\\nPlease reason step by step, and put your final answer within \\\\boxed{}.<|im_end|>\\n<|im_start|>user\\nPart 1. Definition\\nYou are given a math word problem and you are supposed to apply division mathematical operator on the numbers embedded in the text to answer the following question and then only report the final numerical answer.\\nPart 2. Example\\nContext: Alex wants to split a collection of eggs into 4 groups. Alex has 8 eggs and 6 marbles. \\n\\n Question: How many eggs will each group have?\\nAnswer: 2\\nExplanation: Total eggs each group will get is 8/4 = 2\\nPart 3. Exercise\\nContext: 6 packs of dvds can be bought with 120 dollars. \\n\\n Question: How much does each pack cost?\\nAnswer:<|im_end|>\\n<|im_start|>assistant\\nYour task is to define the mathematical operation to be performed on the given numbers to solve the problem and provide a formula to calculate the answer. In this case, the task involves dividing the total amount of eggs by the number of groups, and your answer will be the number of eggs each group will have. I will provide you with the formula to solve the exercise, and if you have any questions, feel free to ask.<|im_end|>\\n')"
      ]
     },
     "execution_count": 30,
     "metadata": {},
     "output_type": "execute_result"
    }
   ],
   "source": [
    "# qwen\n",
    "chosen, rejected"
   ]
  },
  {
   "cell_type": "code",
   "execution_count": 44,
   "id": "8133726f",
   "metadata": {},
   "outputs": [
    {
     "data": {
      "text/plain": [
       "('<|im_start|>user\\nPart 1. Definition\\nYou are given a math word problem and you are supposed to apply division mathematical operator on the numbers embedded in the text to answer the following question and then only report the final numerical answer.\\nPart 2. Example\\nContext: Alex wants to split a collection of eggs into 4 groups. Alex has 8 eggs and 6 marbles. \\n\\n Question: How many eggs will each group have?\\nAnswer: 2\\nExplanation: Total eggs each group will get is 8/4 = 2\\nPart 3. Exercise\\nContext: 6 packs of dvds can be bought with 120 dollars. \\n\\n Question: How much does each pack cost?\\nAnswer:<|im_end|>\\n<|im_start|>assistant\\n6 packs x $120/pack = $720\\nExplanation: To find how much each pack costs, we need to divide the total cost by the number of packs. 120 dollars can buy 6 packs, so each pack costs $120/6 = $20.<|im_end|>\\n',\n",
       " '<|im_start|>user\\nPart 1. Definition\\nYou are given a math word problem and you are supposed to apply division mathematical operator on the numbers embedded in the text to answer the following question and then only report the final numerical answer.\\nPart 2. Example\\nContext: Alex wants to split a collection of eggs into 4 groups. Alex has 8 eggs and 6 marbles. \\n\\n Question: How many eggs will each group have?\\nAnswer: 2\\nExplanation: Total eggs each group will get is 8/4 = 2\\nPart 3. Exercise\\nContext: 6 packs of dvds can be bought with 120 dollars. \\n\\n Question: How much does each pack cost?\\nAnswer:<|im_end|>\\n<|im_start|>assistant\\nYour task is to define the mathematical operation to be performed on the given numbers to solve the problem and provide a formula to calculate the answer. In this case, the task involves dividing the total amount of eggs by the number of groups, and your answer will be the number of eggs each group will have. I will provide you with the formula to solve the exercise, and if you have any questions, feel free to ask.<|im_end|>\\n')"
      ]
     },
     "execution_count": 44,
     "metadata": {},
     "output_type": "execute_result"
    }
   ],
   "source": [
    "# qwq\n",
    "chosen, rejected"
   ]
  },
  {
   "cell_type": "code",
   "execution_count": null,
   "id": "ce6ce30e",
   "metadata": {},
   "outputs": [
    {
     "data": {
      "text/plain": [
       "('<｜begin▁of▁sentence｜><｜User｜>Part 1. Definition\\nYou are given a math word problem and you are supposed to apply division mathematical operator on the numbers embedded in the text to answer the following question and then only report the final numerical answer.\\nPart 2. Example\\nContext: Alex wants to split a collection of eggs into 4 groups. Alex has 8 eggs and 6 marbles. \\n\\n Question: How many eggs will each group have?\\nAnswer: 2\\nExplanation: Total eggs each group will get is 8/4 = 2\\nPart 3. Exercise\\nContext: 6 packs of dvds can be bought with 120 dollars. \\n\\n Question: How much does each pack cost?\\nAnswer:<｜Assistant｜><think>\\n',\n",
       " 'x $120/pack = $720\\nExplanation: To find how much each pack costs, we need to divide the total cost by the number of packs. 120 dollars can buy 6 packs, so each pack costs $120/6 = $20.<｜end▁of▁sentence｜>',\n",
       " 'k is to define the mathematical operation to be performed on the given numbers to solve the problem and provide a formula to calculate the answer. In this case, the task involves dividing the total amount of eggs by the number of groups, and your answer will be the number of eggs each group will have. I will provide you with the formula to solve the exercise, and if you have any questions, feel free to ask.<｜end▁of▁sentence｜>')"
      ]
     },
     "execution_count": 40,
     "metadata": {},
     "output_type": "execute_result"
    }
   ],
   "source": [
    "# qen-distill\n",
    "prompt = tokenizer.apply_chat_template(data[\"chosen\"][:-1], tokenize=False, add_generation_prompt=True)\n",
    "chosen = chosen[len(prompt) :]\n",
    "rejected = rejected[len(prompt) :]\n",
    "prompt, chosen, rejected"
   ]
  },
  {
   "cell_type": "code",
   "execution_count": 45,
   "id": "c3f89c73",
   "metadata": {},
   "outputs": [
    {
     "data": {
      "text/plain": [
       "('<|im_start|>user\\nPart 1. Definition\\nYou are given a math word problem and you are supposed to apply division mathematical operator on the numbers embedded in the text to answer the following question and then only report the final numerical answer.\\nPart 2. Example\\nContext: Alex wants to split a collection of eggs into 4 groups. Alex has 8 eggs and 6 marbles. \\n\\n Question: How many eggs will each group have?\\nAnswer: 2\\nExplanation: Total eggs each group will get is 8/4 = 2\\nPart 3. Exercise\\nContext: 6 packs of dvds can be bought with 120 dollars. \\n\\n Question: How much does each pack cost?\\nAnswer:<|im_end|>\\n<|im_start|>assistant\\n<think>\\n',\n",
       " 'x $120/pack = $720\\nExplanation: To find how much each pack costs, we need to divide the total cost by the number of packs. 120 dollars can buy 6 packs, so each pack costs $120/6 = $20.<|im_end|>\\n',\n",
       " 'k is to define the mathematical operation to be performed on the given numbers to solve the problem and provide a formula to calculate the answer. In this case, the task involves dividing the total amount of eggs by the number of groups, and your answer will be the number of eggs each group will have. I will provide you with the formula to solve the exercise, and if you have any questions, feel free to ask.<|im_end|>\\n')"
      ]
     },
     "execution_count": 45,
     "metadata": {},
     "output_type": "execute_result"
    }
   ],
   "source": [
    "# qwq\n",
    "prompt = tokenizer.apply_chat_template(data[\"chosen\"][:-1], tokenize=False, add_generation_prompt=True)\n",
    "chosen = chosen[len(prompt) :]\n",
    "rejected = rejected[len(prompt) :]\n",
    "prompt, chosen, rejected"
   ]
  },
  {
   "cell_type": "code",
   "execution_count": 31,
   "id": "c63adfea",
   "metadata": {},
   "outputs": [
    {
     "data": {
      "text/plain": [
       "('<|im_start|>system\\nPlease reason step by step, and put your final answer within \\\\boxed{}.<|im_end|>\\n<|im_start|>user\\nPart 1. Definition\\nYou are given a math word problem and you are supposed to apply division mathematical operator on the numbers embedded in the text to answer the following question and then only report the final numerical answer.\\nPart 2. Example\\nContext: Alex wants to split a collection of eggs into 4 groups. Alex has 8 eggs and 6 marbles. \\n\\n Question: How many eggs will each group have?\\nAnswer: 2\\nExplanation: Total eggs each group will get is 8/4 = 2\\nPart 3. Exercise\\nContext: 6 packs of dvds can be bought with 120 dollars. \\n\\n Question: How much does each pack cost?\\nAnswer:<|im_end|>\\n<|im_start|>assistant\\n',\n",
       " '6 packs x $120/pack = $720\\nExplanation: To find how much each pack costs, we need to divide the total cost by the number of packs. 120 dollars can buy 6 packs, so each pack costs $120/6 = $20.<|im_end|>\\n',\n",
       " 'Your task is to define the mathematical operation to be performed on the given numbers to solve the problem and provide a formula to calculate the answer. In this case, the task involves dividing the total amount of eggs by the number of groups, and your answer will be the number of eggs each group will have. I will provide you with the formula to solve the exercise, and if you have any questions, feel free to ask.<|im_end|>\\n')"
      ]
     },
     "execution_count": 31,
     "metadata": {},
     "output_type": "execute_result"
    }
   ],
   "source": [
    "# qwen\n",
    "prompt = tokenizer.apply_chat_template(data[\"chosen\"][:-1], tokenize=False, add_generation_prompt=True)\n",
    "chosen = chosen[len(prompt) :]\n",
    "rejected = rejected[len(prompt) :]\n",
    "prompt, chosen, rejected"
   ]
  }
 ],
 "metadata": {
  "kernelspec": {
   "display_name": "base",
   "language": "python",
   "name": "python3"
  },
  "language_info": {
   "codemirror_mode": {
    "name": "ipython",
    "version": 3
   },
   "file_extension": ".py",
   "mimetype": "text/x-python",
   "name": "python",
   "nbconvert_exporter": "python",
   "pygments_lexer": "ipython3",
   "version": "3.12.4"
  }
 },
 "nbformat": 4,
 "nbformat_minor": 5
}
