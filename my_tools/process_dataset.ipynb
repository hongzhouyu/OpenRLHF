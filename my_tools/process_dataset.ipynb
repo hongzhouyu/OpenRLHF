{
 "cells": [
  {
   "cell_type": "markdown",
   "id": "c227d316",
   "metadata": {},
   "source": [
    "Datasets 的格式: \n",
    "\n",
    "  {'rejected': [{'content': '', \n",
    "\n",
    "   'role': 'user'},\n",
    "\n",
    "  {'content': '',\n",
    "\n",
    "   'role': 'assistant'}],\n",
    "\n",
    " 'chosen': [{'content': '',\n",
    "\n",
    "   'role': 'user'},\n",
    "\n",
    "  {'content': '',\n",
    "  \n",
    "   'role': 'assistant'}]}"
   ]
  },
  {
   "cell_type": "code",
   "execution_count": 1,
   "id": "2fe0a227",
   "metadata": {},
   "outputs": [
    {
     "data": {
      "application/vnd.jupyter.widget-view+json": {
       "model_id": "dc2bffb655c34fc7ad17f20812cc2c6e",
       "version_major": 2,
       "version_minor": 0
      },
      "text/plain": [
       "Generating train split: 0 examples [00:00, ? examples/s]"
      ]
     },
     "metadata": {},
     "output_type": "display_data"
    },
    {
     "data": {
      "text/plain": [
       "DatasetDict({\n",
       "    train: Dataset({\n",
       "        features: ['rejected', 'rejected_score', 'chosen_score', 'chosen'],\n",
       "        num_rows: 554903\n",
       "    })\n",
       "})"
      ]
     },
     "execution_count": 1,
     "metadata": {},
     "output_type": "execute_result"
    }
   ],
   "source": [
    "from datasets import load_dataset\n",
    "# Load the dataset\n",
    "dataset = load_dataset(\"/root/dataset/data\")\n",
    "dataset"
   ]
  },
  {
   "cell_type": "code",
   "execution_count": 3,
   "id": "a46958e3",
   "metadata": {},
   "outputs": [
    {
     "data": {
      "text/plain": [
       "{'rejected': [{'content': 'Part 1. Definition\\nYou are given a math word problem and you are supposed to apply division mathematical operator on the numbers embedded in the text to answer the following question and then only report the final numerical answer.\\nPart 2. Example\\nContext: Alex wants to split a collection of eggs into 4 groups. Alex has 8 eggs and 6 marbles. \\n\\n Question: How many eggs will each group have?\\nAnswer: 2\\nExplanation: Total eggs each group will get is 8/4 = 2\\nPart 3. Exercise\\nContext: 6 packs of dvds can be bought with 120 dollars. \\n\\n Question: How much does each pack cost?\\nAnswer:',\n",
       "   'role': 'user'},\n",
       "  {'content': 'Your task is to define the mathematical operation to be performed on the given numbers to solve the problem and provide a formula to calculate the answer. In this case, the task involves dividing the total amount of eggs by the number of groups, and your answer will be the number of eggs each group will have. I will provide you with the formula to solve the exercise, and if you have any questions, feel free to ask.',\n",
       "   'role': 'assistant'}],\n",
       " 'rejected_score': 1.5,\n",
       " 'chosen_score': 3.75,\n",
       " 'chosen': [{'content': 'Part 1. Definition\\nYou are given a math word problem and you are supposed to apply division mathematical operator on the numbers embedded in the text to answer the following question and then only report the final numerical answer.\\nPart 2. Example\\nContext: Alex wants to split a collection of eggs into 4 groups. Alex has 8 eggs and 6 marbles. \\n\\n Question: How many eggs will each group have?\\nAnswer: 2\\nExplanation: Total eggs each group will get is 8/4 = 2\\nPart 3. Exercise\\nContext: 6 packs of dvds can be bought with 120 dollars. \\n\\n Question: How much does each pack cost?\\nAnswer:',\n",
       "   'role': 'user'},\n",
       "  {'content': '6 packs x $120/pack = $720\\nExplanation: To find how much each pack costs, we need to divide the total cost by the number of packs. 120 dollars can buy 6 packs, so each pack costs $120/6 = $20.',\n",
       "   'role': 'assistant'}]}"
      ]
     },
     "execution_count": 3,
     "metadata": {},
     "output_type": "execute_result"
    }
   ],
   "source": [
    "dataset = dataset[\"train\"]\n",
    "dataset[0]"
   ]
  },
  {
   "cell_type": "code",
   "execution_count": 4,
   "id": "bc464d7d",
   "metadata": {},
   "outputs": [],
   "source": [
    "dataset = dataset.select(range(10000))"
   ]
  },
  {
   "cell_type": "code",
   "execution_count": 6,
   "id": "21b23637",
   "metadata": {},
   "outputs": [
    {
     "data": {
      "application/vnd.jupyter.widget-view+json": {
       "model_id": "ce03203df8db44f688f6d3dfcd8df761",
       "version_major": 2,
       "version_minor": 0
      },
      "text/plain": [
       "Saving the dataset (0/1 shards):   0%|          | 0/10000 [00:00<?, ? examples/s]"
      ]
     },
     "metadata": {},
     "output_type": "display_data"
    }
   ],
   "source": [
    "dataset.save_to_disk(\"/root/dataset\")"
   ]
  }
 ],
 "metadata": {
  "kernelspec": {
   "display_name": "base",
   "language": "python",
   "name": "python3"
  },
  "language_info": {
   "codemirror_mode": {
    "name": "ipython",
    "version": 3
   },
   "file_extension": ".py",
   "mimetype": "text/x-python",
   "name": "python",
   "nbconvert_exporter": "python",
   "pygments_lexer": "ipython3",
   "version": "3.12.4"
  }
 },
 "nbformat": 4,
 "nbformat_minor": 5
}
